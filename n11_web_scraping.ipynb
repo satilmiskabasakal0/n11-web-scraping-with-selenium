{
 "cells": [
  {
   "cell_type": "markdown",
   "source": [
    "## Requirment Libraries"
   ],
   "metadata": {
    "collapsed": false
   },
   "id": "4d00a91d4d11a28e"
  },
  {
   "cell_type": "code",
   "outputs": [],
   "source": [
    "from selenium.webdriver.support import expected_conditions as EC\n",
    "from selenium import webdriver\n",
    "from selenium.webdriver.chrome.service import Service\n",
    "from selenium.webdriver.common.by import By\n",
    "from selenium.webdriver.support.ui import WebDriverWait\n",
    "from selenium.common.exceptions import NoSuchWindowException\n",
    "from selenium.common.exceptions import NoSuchElementException\n",
    "from selenium.webdriver.common.keys import Keys\n",
    "from selenium.common.exceptions import StaleElementReferenceException\n",
    "from selenium.common.exceptions import TimeoutException\n",
    "from webdriver_manager.chrome import ChromeDriverManager\n",
    "import time\n",
    "import pandas as pd\n",
    "import numpy as np"
   ],
   "metadata": {
    "collapsed": false,
    "ExecuteTime": {
     "end_time": "2024-02-24T22:49:24.304451Z",
     "start_time": "2024-02-24T22:49:23.598413Z"
    }
   },
   "id": "6193d2dcfe4d4416",
   "execution_count": 1
  },
  {
   "cell_type": "markdown",
   "source": [
    "## Selenium Web Driver Setup"
   ],
   "metadata": {
    "collapsed": false
   },
   "id": "64531aa1eb09a113"
  },
  {
   "cell_type": "code",
   "outputs": [],
   "source": [
    "service = Service('C:/Users/fb_19/Downloads/chromedriver-win64/chromedriver-win64/chromedriver.exe')\n",
    "options = webdriver.ChromeOptions()\n",
    "options.add_argument('--start-maximized')  # starts the browser in maximized window\n",
    "\n",
    "options.add_argument('--disable-extensions')  # disables browser extensions\n",
    "options.add_argument('--disable-gpu')  # disables hardware acceleration\n",
    "driver = webdriver.Chrome(service=Service(ChromeDriverManager().install()),options=options)\n"
   ],
   "metadata": {
    "collapsed": true,
    "ExecuteTime": {
     "end_time": "2024-02-24T22:49:26.441086Z",
     "start_time": "2024-02-24T22:49:24.305558Z"
    }
   },
   "id": "initial_id",
   "execution_count": 2
  },
  {
   "cell_type": "markdown",
   "source": [
    "## Definition Of Element Lists"
   ],
   "metadata": {
    "collapsed": false
   },
   "id": "1be7568667d0a16c"
  },
  {
   "cell_type": "code",
   "outputs": [],
   "source": [
    "\n",
    "product_links = []\n",
    "product_names = []\n",
    "reviews = []\n",
    "ids=[]\n",
    "product_ratings=[]"
   ],
   "metadata": {
    "collapsed": false,
    "ExecuteTime": {
     "end_time": "2024-02-24T22:49:26.456668Z",
     "start_time": "2024-02-24T22:49:26.442195Z"
    }
   },
   "id": "c2de883479046a51",
   "execution_count": 3
  },
  {
   "cell_type": "markdown",
   "source": [
    "## Reforming a Dataframe"
   ],
   "metadata": {
    "collapsed": false
   },
   "id": "695f83670d681ecd"
  },
  {
   "cell_type": "code",
   "outputs": [],
   "source": [
    "df = pd.DataFrame(columns=(\"product-id\",\"product-name\",\"product-links\",\"product-reviews\",\"product-rating\"))\n"
   ],
   "metadata": {
    "collapsed": false,
    "ExecuteTime": {
     "end_time": "2024-02-24T22:49:26.472487Z",
     "start_time": "2024-02-24T22:49:26.457841Z"
    }
   },
   "id": "6fe08b83a63ebbb5",
   "execution_count": 4
  },
  {
   "cell_type": "markdown",
   "source": [
    "## Collecting Product ID numbers"
   ],
   "metadata": {
    "collapsed": false
   },
   "id": "61f67ec47e9dea69"
  },
  {
   "cell_type": "code",
   "outputs": [
    {
     "name": "stdout",
     "output_type": "stream",
     "text": [
      "1219\n"
     ]
    }
   ],
   "source": [
    "websites=(\"https://www.n11.com/telefon-ve-aksesuarlari?srt=REVIEWS&pg=\",\"https://www.n11.com/agiz-dis-bakimi?srt=REVIEWS&pg=\",\"https://www.n11.com/evcil-hayvan-urunleri?srt=REVIEWS&pg=\")\n",
    "for a in websites:\n",
    "    for i in range(1, 15):\n",
    "        try:\n",
    "            website= a\n",
    "            website += str(i)\n",
    "            driver.get(website)\n",
    "            website = a\n",
    "            names = driver.find_elements(By.CLASS_NAME, 'productName')\n",
    "            \n",
    "            for name in names:\n",
    "                product_names.append(name.text)\n",
    "            # Wait for the columns to load\n",
    "            wait = WebDriverWait(driver, 10)\n",
    "            columns = wait.until(EC.presence_of_all_elements_located((By.CLASS_NAME, 'column')))\n",
    "\n",
    "            for column in columns:\n",
    "\n",
    "\n",
    "                column_contents = column.find_elements(By.CLASS_NAME, 'columnContent')\n",
    "\n",
    "\n",
    "                for content in column_contents:\n",
    "\n",
    "\n",
    "                    id_element = content.find_element(By.TAG_NAME, \"a\")\n",
    "                    id = id_element.get_attribute(\"data-id\")\n",
    "                    product_link = id_element.get_attribute(\"href\")\n",
    "                    if id is not None:\n",
    "\n",
    "                        ids.append(id)\n",
    "                        product_links.append(product_link)\n",
    "                    else:\n",
    "                        continue\n",
    "\n",
    "\n",
    "        except TimeoutException:\n",
    "            print(\"TimeoutException error ignored.\")\n",
    "            continue\n",
    "            \n",
    "print(len(ids))"
   ],
   "metadata": {
    "collapsed": false,
    "ExecuteTime": {
     "end_time": "2024-02-24T22:51:45.767107Z",
     "start_time": "2024-02-24T22:49:26.474578Z"
    }
   },
   "id": "8fc78d4df1474259",
   "execution_count": 5
  },
  {
   "cell_type": "markdown",
   "source": [
    "# Collecting Reviews"
   ],
   "metadata": {
    "collapsed": false
   },
   "id": "8b375290c7cf723b"
  },
  {
   "cell_type": "code",
   "outputs": [],
   "source": [
    "for a in ids:\n",
    "    i=1\n",
    "    website = \"https://www.n11.com/component/render/groupProductReviews?page=\"+str(i)+\"&productId=\"+str(a)\n",
    "    driver.get(website)\n",
    "    time.sleep(0.1)\n",
    "    try:\n",
    "        try:\n",
    "            page= int(driver.find_element(By.XPATH, '//*[@id=\"reviewContent\"]/div/div/span').text)\n",
    "        except NoSuchElementException:\n",
    "            page=1\n",
    "        for i in range (1,page+1):\n",
    "            website = \"https://www.n11.com/component/render/groupProductReviews?page=\"+str(i)+\"&productId=\"+str(a)\n",
    "            driver.get(website)\n",
    "            step1 = driver.find_elements(By.CLASS_NAME,'comment')\n",
    "            for step in step1:\n",
    "                try:\n",
    "                    comment = step.find_element(By.TAG_NAME,'p').text\n",
    "                    reviews.append(comment)\n",
    "                    rating = step.find_element(By.CLASS_NAME,'commentTop').find_element(By.CLASS_NAME,'ratingCont').find_element(By.TAG_NAME,'span').get_attribute(\"class\")\n",
    "                    rating = int(rating.split(\"rating r\")[1])/20\n",
    "                    product_ratings.append(rating)\n",
    "                    df.loc[len(df)]=[a,product_names[ids.index(a)],product_links[ids.index(a)],reviews[-1],product_ratings[-1]]\n",
    "                except IndexError:\n",
    "                    continue\n",
    "    except TimeoutException:\n",
    "        continue\n"
   ],
   "metadata": {
    "collapsed": false,
    "ExecuteTime": {
     "end_time": "2024-02-25T04:13:01.373649Z",
     "start_time": "2024-02-24T22:51:45.768108Z"
    }
   },
   "id": "f1c7955ee19d024e",
   "execution_count": 6
  },
  {
   "cell_type": "code",
   "outputs": [
    {
     "data": {
      "text/plain": "(200003, 199968)"
     },
     "execution_count": 7,
     "metadata": {},
     "output_type": "execute_result"
    }
   ],
   "source": [
    "len(reviews),len(product_ratings)"
   ],
   "metadata": {
    "collapsed": false,
    "ExecuteTime": {
     "end_time": "2024-02-25T04:13:01.389661Z",
     "start_time": "2024-02-25T04:13:01.374651Z"
    }
   },
   "id": "9eae282f3f791306",
   "execution_count": 7
  },
  {
   "cell_type": "code",
   "outputs": [],
   "source": [
    "df.to_csv('data.csv')"
   ],
   "metadata": {
    "collapsed": false,
    "ExecuteTime": {
     "end_time": "2024-02-25T04:13:02.627245Z",
     "start_time": "2024-02-25T04:13:01.390787Z"
    }
   },
   "id": "90af9bf251bd4f91",
   "execution_count": 8
  },
  {
   "cell_type": "code",
   "outputs": [],
   "source": [],
   "metadata": {
    "collapsed": false,
    "ExecuteTime": {
     "end_time": "2024-02-25T04:13:02.643249Z",
     "start_time": "2024-02-25T04:13:02.628246Z"
    }
   },
   "id": "c71b659b8f14009a",
   "execution_count": 8
  },
  {
   "cell_type": "code",
   "outputs": [],
   "source": [
    "df.to_csv('data.csv')"
   ],
   "metadata": {
    "collapsed": false,
    "ExecuteTime": {
     "end_time": "2024-02-25T04:13:03.875111Z",
     "start_time": "2024-02-25T04:13:02.644249Z"
    }
   },
   "id": "655e95f3d9e0235f",
   "execution_count": 9
  },
  {
   "cell_type": "code",
   "outputs": [
    {
     "name": "stdout",
     "output_type": "stream",
     "text": [
      "<class 'pandas.core.frame.DataFrame'>\n",
      "Index: 199968 entries, 0 to 199967\n",
      "Data columns (total 5 columns):\n",
      " #   Column           Non-Null Count   Dtype  \n",
      "---  ------           --------------   -----  \n",
      " 0   product-id       199968 non-null  object \n",
      " 1   product-name     199968 non-null  object \n",
      " 2   product-links    199968 non-null  object \n",
      " 3   product-reviews  199968 non-null  object \n",
      " 4   product-rating   199968 non-null  float64\n",
      "dtypes: float64(1), object(4)\n",
      "memory usage: 9.2+ MB\n"
     ]
    }
   ],
   "source": [
    "df.info()"
   ],
   "metadata": {
    "collapsed": false,
    "ExecuteTime": {
     "end_time": "2024-02-25T04:13:03.952115Z",
     "start_time": "2024-02-25T04:13:03.876111Z"
    }
   },
   "id": "f7e6d2b51af9c9a5",
   "execution_count": 10
  },
  {
   "cell_type": "code",
   "outputs": [
    {
     "data": {
      "text/plain": "product-reviews\nFalse    179167\nTrue      20801\nName: count, dtype: int64"
     },
     "execution_count": 12,
     "metadata": {},
     "output_type": "execute_result"
    }
   ],
   "source": [
    "df[\"product-reviews\"].duplicated().value_counts()"
   ],
   "metadata": {
    "collapsed": false,
    "ExecuteTime": {
     "end_time": "2024-02-25T05:02:47.105740Z",
     "start_time": "2024-02-25T05:02:47.061615Z"
    }
   },
   "id": "751a9be44b3992",
   "execution_count": 12
  },
  {
   "cell_type": "code",
   "outputs": [
    {
     "data": {
      "text/plain": "product-rating\n5.0    151496\n4.0     19005\n1.0     16502\n3.0      8465\n2.0      4500\nName: count, dtype: int64"
     },
     "execution_count": 13,
     "metadata": {},
     "output_type": "execute_result"
    }
   ],
   "source": [
    "df[\"product-rating\"].value_counts()"
   ],
   "metadata": {
    "collapsed": false,
    "ExecuteTime": {
     "end_time": "2024-02-25T05:04:37.202797Z",
     "start_time": "2024-02-25T05:04:37.187944Z"
    }
   },
   "id": "4f2ff32e28f8bc3b",
   "execution_count": 13
  },
  {
   "cell_type": "code",
   "outputs": [
    {
     "data": {
      "text/plain": "199968"
     },
     "execution_count": 18,
     "metadata": {},
     "output_type": "execute_result"
    }
   ],
   "source": [
    "df[\"product-reviews\"].duplica"
   ],
   "metadata": {
    "collapsed": false,
    "ExecuteTime": {
     "end_time": "2024-02-25T05:07:28.660985Z",
     "start_time": "2024-02-25T05:07:28.601763Z"
    }
   },
   "id": "baba6f29d28778eb",
   "execution_count": 18
  },
  {
   "cell_type": "code",
   "outputs": [],
   "source": [],
   "metadata": {
    "collapsed": false
   },
   "id": "c9bbd622b20fa9ee"
  }
 ],
 "metadata": {
  "kernelspec": {
   "display_name": "Python 3",
   "language": "python",
   "name": "python3"
  },
  "language_info": {
   "codemirror_mode": {
    "name": "ipython",
    "version": 2
   },
   "file_extension": ".py",
   "mimetype": "text/x-python",
   "name": "python",
   "nbconvert_exporter": "python",
   "pygments_lexer": "ipython2",
   "version": "2.7.6"
  }
 },
 "nbformat": 4,
 "nbformat_minor": 5
}
