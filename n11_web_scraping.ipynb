{
 "cells": [
  {
   "cell_type": "markdown",
   "source": [
    "## Requirment Libraries"
   ],
   "metadata": {
    "collapsed": false
   },
   "id": "4d00a91d4d11a28e"
  },
  {
   "cell_type": "code",
   "outputs": [],
   "source": [
    "\n",
    "from selenium.webdriver.support import expected_conditions as EC\n",
    "from selenium import webdriver\n",
    "from selenium.webdriver.chrome.service import Service\n",
    "from selenium.webdriver.common.by import By\n",
    "from selenium.webdriver.support.ui import WebDriverWait\n",
    "from selenium.common.exceptions import NoSuchWindowException\n",
    "from selenium.common.exceptions import NoSuchElementException\n",
    "from selenium.webdriver.common.keys import Keys\n",
    "from selenium.common.exceptions import StaleElementReferenceException\n",
    "from selenium.common.exceptions import TimeoutException\n",
    "from webdriver_manager.chrome import ChromeDriverManager\n",
    "import time\n",
    "import pandas as pd\n",
    "import numpy as np"
   ],
   "metadata": {
    "collapsed": false,
    "ExecuteTime": {
     "end_time": "2024-02-23T17:42:01.467269Z",
     "start_time": "2024-02-23T17:42:01.456764Z"
    }
   },
   "id": "6193d2dcfe4d4416",
   "execution_count": 30
  },
  {
   "cell_type": "markdown",
   "source": [
    "## Selenium Web Driver Setup"
   ],
   "metadata": {
    "collapsed": false
   },
   "id": "64531aa1eb09a113"
  },
  {
   "cell_type": "code",
   "outputs": [],
   "source": [
    "service = Service('C:/Users/fb_19/Downloads/chromedriver-win64/chromedriver-win64/chromedriver.exe')\n",
    "options = webdriver.ChromeOptions()\n",
    "options.add_argument('--start-maximized')  # starts the browser in maximized window\n",
    "\n",
    "options.add_argument('--disable-extensions')  # disables browser extensions\n",
    "options.add_argument('--disable-gpu')  # disables hardware acceleration\n",
    "driver = webdriver.Chrome(service=Service(ChromeDriverManager().install()),options=options)\n"
   ],
   "metadata": {
    "collapsed": true,
    "ExecuteTime": {
     "end_time": "2024-02-23T17:42:03.799781Z",
     "start_time": "2024-02-23T17:42:01.477351Z"
    }
   },
   "id": "initial_id",
   "execution_count": 31
  },
  {
   "cell_type": "markdown",
   "source": [
    "## Definition Of Element Lists"
   ],
   "metadata": {
    "collapsed": false
   },
   "id": "1be7568667d0a16c"
  },
  {
   "cell_type": "code",
   "outputs": [],
   "source": [
    "\n",
    "product_links = []\n",
    "product_names = []\n",
    "reviews = []\n",
    "ids=[]\n",
    "product_ratings=[]"
   ],
   "metadata": {
    "collapsed": false,
    "ExecuteTime": {
     "end_time": "2024-02-23T17:42:03.815304Z",
     "start_time": "2024-02-23T17:42:03.801781Z"
    }
   },
   "id": "c2de883479046a51",
   "execution_count": 32
  },
  {
   "cell_type": "markdown",
   "source": [
    "## Reforming a Dataframe"
   ],
   "metadata": {
    "collapsed": false
   },
   "id": "695f83670d681ecd"
  },
  {
   "cell_type": "code",
   "outputs": [],
   "source": [
    "df = pd.DataFrame(columns=(\"product-id\",\"product-name\",\"product-links\",\"product-reviews\",\"product-rating\"))\n"
   ],
   "metadata": {
    "collapsed": false,
    "ExecuteTime": {
     "end_time": "2024-02-23T17:42:03.830526Z",
     "start_time": "2024-02-23T17:42:03.816428Z"
    }
   },
   "id": "6fe08b83a63ebbb5",
   "execution_count": 33
  },
  {
   "cell_type": "markdown",
   "source": [
    "## Collecting Product ID numbers"
   ],
   "metadata": {
    "collapsed": false
   },
   "id": "61f67ec47e9dea69"
  },
  {
   "cell_type": "code",
   "outputs": [],
   "source": [
    "websites=(\"https://www.n11.com/bilgisayar/cevre-birimleri/mouse?pg=\",\"https://www.n11.com/mutfak-gerecleri?pg=\",\"https://www.n11.com/telefon-ve-aksesuarlari?pg=\")\n",
    "for a in websites:\n",
    "    for i in range(1, 5):\n",
    "        try:\n",
    "            website= a\n",
    "            website += str(i)\n",
    "            driver.get(website)\n",
    "            website = a\n",
    "            names = driver.find_elements(By.CLASS_NAME, 'productName')\n",
    "            \n",
    "            for name in names:\n",
    "                product_names.append(name.text)\n",
    "            # Wait for the columns to load\n",
    "            wait = WebDriverWait(driver, 10)\n",
    "            columns = wait.until(EC.presence_of_all_elements_located((By.CLASS_NAME, 'column')))\n",
    "\n",
    "            for column in columns:\n",
    "\n",
    "\n",
    "                column_contents = column.find_elements(By.CLASS_NAME, 'columnContent')\n",
    "\n",
    "\n",
    "                for content in column_contents:\n",
    "\n",
    "\n",
    "                    id_element = content.find_element(By.TAG_NAME, \"a\")\n",
    "                    id = id_element.get_attribute(\"data-id\")\n",
    "                    product_link = id_element.get_attribute(\"href\")\n",
    "                    if id is not None:\n",
    "\n",
    "                        ids.append(id)\n",
    "                        product_links.append(product_link)\n",
    "                    else:\n",
    "                        continue\n",
    "\n",
    "\n",
    "        except TimeoutException:\n",
    "            print(\"TimeoutException error ignored.\")\n",
    "            continue"
   ],
   "metadata": {
    "collapsed": false,
    "ExecuteTime": {
     "end_time": "2024-02-23T17:42:32.358803Z",
     "start_time": "2024-02-23T17:42:03.832597Z"
    }
   },
   "id": "8fc78d4df1474259",
   "execution_count": 34
  },
  {
   "cell_type": "markdown",
   "source": [
    "# Collecting Reviews"
   ],
   "metadata": {
    "collapsed": false
   },
   "id": "8b375290c7cf723b"
  },
  {
   "cell_type": "code",
   "outputs": [
    {
     "ename": "NoSuchWindowException",
     "evalue": "Message: no such window: target window already closed\nfrom unknown error: web view not found\n  (Session info: chrome=122.0.6261.57)\nStacktrace:\n\tGetHandleVerifier [0x00DC8CD3+51395]\n\t(No symbol) [0x00D35F31]\n\t(No symbol) [0x00BEE13A]\n\t(No symbol) [0x00BD25F2]\n\t(No symbol) [0x00C49B2B]\n\t(No symbol) [0x00C59E66]\n\t(No symbol) [0x00C43C26]\n\t(No symbol) [0x00C1C629]\n\t(No symbol) [0x00C1D40D]\n\tGetHandleVerifier [0x01146493+3711107]\n\tGetHandleVerifier [0x0118587A+3970154]\n\tGetHandleVerifier [0x01180B68+3950424]\n\tGetHandleVerifier [0x00E79CD9+776393]\n\t(No symbol) [0x00D41704]\n\t(No symbol) [0x00D3C5E8]\n\t(No symbol) [0x00D3C799]\n\t(No symbol) [0x00D2DDC0]\n\tBaseThreadInitThunk [0x75FF7BA9+25]\n\tRtlInitializeExceptionChain [0x777BBD2B+107]\n\tRtlClearBits [0x777BBCAF+191]\n",
     "output_type": "error",
     "traceback": [
      "\u001B[1;31m---------------------------------------------------------------------------\u001B[0m",
      "\u001B[1;31mNoSuchWindowException\u001B[0m                     Traceback (most recent call last)",
      "Cell \u001B[1;32mIn[35], line 14\u001B[0m\n\u001B[0;32m     12\u001B[0m website \u001B[38;5;241m=\u001B[39m \u001B[38;5;124m\"\u001B[39m\u001B[38;5;124mhttps://www.n11.com/component/render/groupProductReviews?page=\u001B[39m\u001B[38;5;124m\"\u001B[39m\u001B[38;5;241m+\u001B[39m\u001B[38;5;28mstr\u001B[39m(i)\u001B[38;5;241m+\u001B[39m\u001B[38;5;124m\"\u001B[39m\u001B[38;5;124m&productId=\u001B[39m\u001B[38;5;124m\"\u001B[39m\u001B[38;5;241m+\u001B[39m\u001B[38;5;28mstr\u001B[39m(a)\n\u001B[0;32m     13\u001B[0m driver\u001B[38;5;241m.\u001B[39mget(website)\n\u001B[1;32m---> 14\u001B[0m step1 \u001B[38;5;241m=\u001B[39m \u001B[43mdriver\u001B[49m\u001B[38;5;241;43m.\u001B[39;49m\u001B[43mfind_elements\u001B[49m\u001B[43m(\u001B[49m\u001B[43mBy\u001B[49m\u001B[38;5;241;43m.\u001B[39;49m\u001B[43mCLASS_NAME\u001B[49m\u001B[43m,\u001B[49m\u001B[38;5;124;43m'\u001B[39;49m\u001B[38;5;124;43mcomment\u001B[39;49m\u001B[38;5;124;43m'\u001B[39;49m\u001B[43m)\u001B[49m\n\u001B[0;32m     15\u001B[0m \u001B[38;5;28;01mfor\u001B[39;00m step \u001B[38;5;129;01min\u001B[39;00m step1:\n\u001B[0;32m     16\u001B[0m     \u001B[38;5;28;01mtry\u001B[39;00m:\n",
      "File \u001B[1;32mC:\\Python3.10\\lib\\site-packages\\selenium\\webdriver\\remote\\webdriver.py:771\u001B[0m, in \u001B[0;36mWebDriver.find_elements\u001B[1;34m(self, by, value)\u001B[0m\n\u001B[0;32m    767\u001B[0m     value \u001B[38;5;241m=\u001B[39m \u001B[38;5;124mf\u001B[39m\u001B[38;5;124m'\u001B[39m\u001B[38;5;124m[name=\u001B[39m\u001B[38;5;124m\"\u001B[39m\u001B[38;5;132;01m{\u001B[39;00mvalue\u001B[38;5;132;01m}\u001B[39;00m\u001B[38;5;124m\"\u001B[39m\u001B[38;5;124m]\u001B[39m\u001B[38;5;124m'\u001B[39m\n\u001B[0;32m    769\u001B[0m \u001B[38;5;66;03m# Return empty list if driver returns null\u001B[39;00m\n\u001B[0;32m    770\u001B[0m \u001B[38;5;66;03m# See https://github.com/SeleniumHQ/selenium/issues/4555\u001B[39;00m\n\u001B[1;32m--> 771\u001B[0m \u001B[38;5;28;01mreturn\u001B[39;00m \u001B[38;5;28;43mself\u001B[39;49m\u001B[38;5;241;43m.\u001B[39;49m\u001B[43mexecute\u001B[49m\u001B[43m(\u001B[49m\u001B[43mCommand\u001B[49m\u001B[38;5;241;43m.\u001B[39;49m\u001B[43mFIND_ELEMENTS\u001B[49m\u001B[43m,\u001B[49m\u001B[43m \u001B[49m\u001B[43m{\u001B[49m\u001B[38;5;124;43m\"\u001B[39;49m\u001B[38;5;124;43musing\u001B[39;49m\u001B[38;5;124;43m\"\u001B[39;49m\u001B[43m:\u001B[49m\u001B[43m \u001B[49m\u001B[43mby\u001B[49m\u001B[43m,\u001B[49m\u001B[43m \u001B[49m\u001B[38;5;124;43m\"\u001B[39;49m\u001B[38;5;124;43mvalue\u001B[39;49m\u001B[38;5;124;43m\"\u001B[39;49m\u001B[43m:\u001B[49m\u001B[43m \u001B[49m\u001B[43mvalue\u001B[49m\u001B[43m}\u001B[49m\u001B[43m)\u001B[49m[\u001B[38;5;124m\"\u001B[39m\u001B[38;5;124mvalue\u001B[39m\u001B[38;5;124m\"\u001B[39m] \u001B[38;5;129;01mor\u001B[39;00m []\n",
      "File \u001B[1;32mC:\\Python3.10\\lib\\site-packages\\selenium\\webdriver\\remote\\webdriver.py:347\u001B[0m, in \u001B[0;36mWebDriver.execute\u001B[1;34m(self, driver_command, params)\u001B[0m\n\u001B[0;32m    345\u001B[0m response \u001B[38;5;241m=\u001B[39m \u001B[38;5;28mself\u001B[39m\u001B[38;5;241m.\u001B[39mcommand_executor\u001B[38;5;241m.\u001B[39mexecute(driver_command, params)\n\u001B[0;32m    346\u001B[0m \u001B[38;5;28;01mif\u001B[39;00m response:\n\u001B[1;32m--> 347\u001B[0m     \u001B[38;5;28;43mself\u001B[39;49m\u001B[38;5;241;43m.\u001B[39;49m\u001B[43merror_handler\u001B[49m\u001B[38;5;241;43m.\u001B[39;49m\u001B[43mcheck_response\u001B[49m\u001B[43m(\u001B[49m\u001B[43mresponse\u001B[49m\u001B[43m)\u001B[49m\n\u001B[0;32m    348\u001B[0m     response[\u001B[38;5;124m\"\u001B[39m\u001B[38;5;124mvalue\u001B[39m\u001B[38;5;124m\"\u001B[39m] \u001B[38;5;241m=\u001B[39m \u001B[38;5;28mself\u001B[39m\u001B[38;5;241m.\u001B[39m_unwrap_value(response\u001B[38;5;241m.\u001B[39mget(\u001B[38;5;124m\"\u001B[39m\u001B[38;5;124mvalue\u001B[39m\u001B[38;5;124m\"\u001B[39m, \u001B[38;5;28;01mNone\u001B[39;00m))\n\u001B[0;32m    349\u001B[0m     \u001B[38;5;28;01mreturn\u001B[39;00m response\n",
      "File \u001B[1;32mC:\\Python3.10\\lib\\site-packages\\selenium\\webdriver\\remote\\errorhandler.py:229\u001B[0m, in \u001B[0;36mErrorHandler.check_response\u001B[1;34m(self, response)\u001B[0m\n\u001B[0;32m    227\u001B[0m         alert_text \u001B[38;5;241m=\u001B[39m value[\u001B[38;5;124m\"\u001B[39m\u001B[38;5;124malert\u001B[39m\u001B[38;5;124m\"\u001B[39m]\u001B[38;5;241m.\u001B[39mget(\u001B[38;5;124m\"\u001B[39m\u001B[38;5;124mtext\u001B[39m\u001B[38;5;124m\"\u001B[39m)\n\u001B[0;32m    228\u001B[0m     \u001B[38;5;28;01mraise\u001B[39;00m exception_class(message, screen, stacktrace, alert_text)  \u001B[38;5;66;03m# type: ignore[call-arg]  # mypy is not smart enough here\u001B[39;00m\n\u001B[1;32m--> 229\u001B[0m \u001B[38;5;28;01mraise\u001B[39;00m exception_class(message, screen, stacktrace)\n",
      "\u001B[1;31mNoSuchWindowException\u001B[0m: Message: no such window: target window already closed\nfrom unknown error: web view not found\n  (Session info: chrome=122.0.6261.57)\nStacktrace:\n\tGetHandleVerifier [0x00DC8CD3+51395]\n\t(No symbol) [0x00D35F31]\n\t(No symbol) [0x00BEE13A]\n\t(No symbol) [0x00BD25F2]\n\t(No symbol) [0x00C49B2B]\n\t(No symbol) [0x00C59E66]\n\t(No symbol) [0x00C43C26]\n\t(No symbol) [0x00C1C629]\n\t(No symbol) [0x00C1D40D]\n\tGetHandleVerifier [0x01146493+3711107]\n\tGetHandleVerifier [0x0118587A+3970154]\n\tGetHandleVerifier [0x01180B68+3950424]\n\tGetHandleVerifier [0x00E79CD9+776393]\n\t(No symbol) [0x00D41704]\n\t(No symbol) [0x00D3C5E8]\n\t(No symbol) [0x00D3C799]\n\t(No symbol) [0x00D2DDC0]\n\tBaseThreadInitThunk [0x75FF7BA9+25]\n\tRtlInitializeExceptionChain [0x777BBD2B+107]\n\tRtlClearBits [0x777BBCAF+191]\n"
     ]
    }
   ],
   "source": [
    "for a in ids:\n",
    "    i=1\n",
    "    website = \"https://www.n11.com/component/render/groupProductReviews?page=\"+str(i)+\"&productId=\"+str(a)\n",
    "    driver.get(website)\n",
    "    time.sleep(0.1)\n",
    "    try:\n",
    "        try:\n",
    "            page= int(driver.find_element(By.XPATH, '//*[@id=\"reviewContent\"]/div/div/span').text)\n",
    "        except NoSuchElementException:\n",
    "            page=1\n",
    "        for i in range (1,page+1):\n",
    "            website = \"https://www.n11.com/component/render/groupProductReviews?page=\"+str(i)+\"&productId=\"+str(a)\n",
    "            driver.get(website)\n",
    "            step1 = driver.find_elements(By.CLASS_NAME,'comment')\n",
    "            for step in step1:\n",
    "                try:\n",
    "                    comment = step.find_element(By.TAG_NAME,'p').text\n",
    "                    reviews.append(comment)\n",
    "                    rating = step.find_element(By.CLASS_NAME,'commentTop').find_element(By.CLASS_NAME,'ratingCont').find_element(By.TAG_NAME,'span').get_attribute(\"class\")\n",
    "                    rating = int(rating.split(\"rating r\")[1])/20\n",
    "                    product_ratings.append(rating)\n",
    "                    df.loc[len(df)]=[a,product_names[ids.index(a)],product_links[ids.index(a)],reviews[-1],product_ratings[-1]]\n",
    "                except IndexError:\n",
    "                    continue\n",
    "    except TimeoutException:\n",
    "        continue\n"
   ],
   "metadata": {
    "collapsed": false,
    "ExecuteTime": {
     "end_time": "2024-02-23T17:53:28.427456Z",
     "start_time": "2024-02-23T17:42:32.359804Z"
    }
   },
   "id": "f1c7955ee19d024e",
   "execution_count": 35
  },
  {
   "cell_type": "code",
   "outputs": [],
   "source": [
    "len(reviews),len(product_ratings)"
   ],
   "metadata": {
    "collapsed": false,
    "ExecuteTime": {
     "end_time": "2024-02-23T17:53:28.429554Z",
     "start_time": "2024-02-23T17:53:28.428549Z"
    }
   },
   "id": "9eae282f3f791306",
   "execution_count": null
  },
  {
   "cell_type": "code",
   "outputs": [
    {
     "data": {
      "text/plain": "     product-id                                       product-name  \\\n0     586873587          Logitech G300S Kablolu Optik Oyuncu Mouse   \n1     586873587          Logitech G300S Kablolu Optik Oyuncu Mouse   \n2     586873587          Logitech G300S Kablolu Optik Oyuncu Mouse   \n3     586873587          Logitech G300S Kablolu Optik Oyuncu Mouse   \n4     586873587          Logitech G300S Kablolu Optik Oyuncu Mouse   \n...         ...                                                ...   \n9419  588616954  Narpump Şarjlı Tek Motorlu Damacana Pompası Beyaz   \n9420  588616954  Narpump Şarjlı Tek Motorlu Damacana Pompası Beyaz   \n9421  588616954  Narpump Şarjlı Tek Motorlu Damacana Pompası Beyaz   \n9422  588616954  Narpump Şarjlı Tek Motorlu Damacana Pompası Beyaz   \n9423  588616954  Narpump Şarjlı Tek Motorlu Damacana Pompası Beyaz   \n\n                                          product-links  \\\n0     https://www.n11.com/urun/logitech-g300s-kablol...   \n1     https://www.n11.com/urun/logitech-g300s-kablol...   \n2     https://www.n11.com/urun/logitech-g300s-kablol...   \n3     https://www.n11.com/urun/logitech-g300s-kablol...   \n4     https://www.n11.com/urun/logitech-g300s-kablol...   \n...                                                 ...   \n9419  https://www.n11.com/urun/narpump-sarjli-tek-mo...   \n9420  https://www.n11.com/urun/narpump-sarjli-tek-mo...   \n9421  https://www.n11.com/urun/narpump-sarjli-tek-mo...   \n9422  https://www.n11.com/urun/narpump-sarjli-tek-mo...   \n9423  https://www.n11.com/urun/narpump-sarjli-tek-mo...   \n\n                                        product-reviews  product-rating  \n0     Eksik geldi iki adet sipariş versim bir adet g...             5.0  \n1                  paketleme rezalet patpata bari sarın             1.0  \n2     paketleme çok kötü paketi acarken video ve fot...             5.0  \n3     güzel kullanışlı rahat ele oturuyor makro tuşl...             5.0  \n4                          Çok güzel ürün güzel kayıyor             5.0  \n...                                                 ...             ...  \n9419  Cihazın su tazyiği güzel, ucundaki metal borun...             3.0  \n9420                            Fiyatına göre iş görür.             4.0  \n9421  ürünu bugun takıp kullandik ilk kullanım iyi z...             5.0  \n9422                ürün minik işi büyük tavsiye ederim             5.0  \n9423  Ürğn güzel paketlenmiş zamanında (2gün) teslim...             5.0  \n\n[9424 rows x 5 columns]",
      "text/html": "<div>\n<style scoped>\n    .dataframe tbody tr th:only-of-type {\n        vertical-align: middle;\n    }\n\n    .dataframe tbody tr th {\n        vertical-align: top;\n    }\n\n    .dataframe thead th {\n        text-align: right;\n    }\n</style>\n<table border=\"1\" class=\"dataframe\">\n  <thead>\n    <tr style=\"text-align: right;\">\n      <th></th>\n      <th>product-id</th>\n      <th>product-name</th>\n      <th>product-links</th>\n      <th>product-reviews</th>\n      <th>product-rating</th>\n    </tr>\n  </thead>\n  <tbody>\n    <tr>\n      <th>0</th>\n      <td>586873587</td>\n      <td>Logitech G300S Kablolu Optik Oyuncu Mouse</td>\n      <td>https://www.n11.com/urun/logitech-g300s-kablol...</td>\n      <td>Eksik geldi iki adet sipariş versim bir adet g...</td>\n      <td>5.0</td>\n    </tr>\n    <tr>\n      <th>1</th>\n      <td>586873587</td>\n      <td>Logitech G300S Kablolu Optik Oyuncu Mouse</td>\n      <td>https://www.n11.com/urun/logitech-g300s-kablol...</td>\n      <td>paketleme rezalet patpata bari sarın</td>\n      <td>1.0</td>\n    </tr>\n    <tr>\n      <th>2</th>\n      <td>586873587</td>\n      <td>Logitech G300S Kablolu Optik Oyuncu Mouse</td>\n      <td>https://www.n11.com/urun/logitech-g300s-kablol...</td>\n      <td>paketleme çok kötü paketi acarken video ve fot...</td>\n      <td>5.0</td>\n    </tr>\n    <tr>\n      <th>3</th>\n      <td>586873587</td>\n      <td>Logitech G300S Kablolu Optik Oyuncu Mouse</td>\n      <td>https://www.n11.com/urun/logitech-g300s-kablol...</td>\n      <td>güzel kullanışlı rahat ele oturuyor makro tuşl...</td>\n      <td>5.0</td>\n    </tr>\n    <tr>\n      <th>4</th>\n      <td>586873587</td>\n      <td>Logitech G300S Kablolu Optik Oyuncu Mouse</td>\n      <td>https://www.n11.com/urun/logitech-g300s-kablol...</td>\n      <td>Çok güzel ürün güzel kayıyor</td>\n      <td>5.0</td>\n    </tr>\n    <tr>\n      <th>...</th>\n      <td>...</td>\n      <td>...</td>\n      <td>...</td>\n      <td>...</td>\n      <td>...</td>\n    </tr>\n    <tr>\n      <th>9419</th>\n      <td>588616954</td>\n      <td>Narpump Şarjlı Tek Motorlu Damacana Pompası Beyaz</td>\n      <td>https://www.n11.com/urun/narpump-sarjli-tek-mo...</td>\n      <td>Cihazın su tazyiği güzel, ucundaki metal borun...</td>\n      <td>3.0</td>\n    </tr>\n    <tr>\n      <th>9420</th>\n      <td>588616954</td>\n      <td>Narpump Şarjlı Tek Motorlu Damacana Pompası Beyaz</td>\n      <td>https://www.n11.com/urun/narpump-sarjli-tek-mo...</td>\n      <td>Fiyatına göre iş görür.</td>\n      <td>4.0</td>\n    </tr>\n    <tr>\n      <th>9421</th>\n      <td>588616954</td>\n      <td>Narpump Şarjlı Tek Motorlu Damacana Pompası Beyaz</td>\n      <td>https://www.n11.com/urun/narpump-sarjli-tek-mo...</td>\n      <td>ürünu bugun takıp kullandik ilk kullanım iyi z...</td>\n      <td>5.0</td>\n    </tr>\n    <tr>\n      <th>9422</th>\n      <td>588616954</td>\n      <td>Narpump Şarjlı Tek Motorlu Damacana Pompası Beyaz</td>\n      <td>https://www.n11.com/urun/narpump-sarjli-tek-mo...</td>\n      <td>ürün minik işi büyük tavsiye ederim</td>\n      <td>5.0</td>\n    </tr>\n    <tr>\n      <th>9423</th>\n      <td>588616954</td>\n      <td>Narpump Şarjlı Tek Motorlu Damacana Pompası Beyaz</td>\n      <td>https://www.n11.com/urun/narpump-sarjli-tek-mo...</td>\n      <td>Ürğn güzel paketlenmiş zamanında (2gün) teslim...</td>\n      <td>5.0</td>\n    </tr>\n  </tbody>\n</table>\n<p>9424 rows × 5 columns</p>\n</div>"
     },
     "execution_count": 46,
     "metadata": {},
     "output_type": "execute_result"
    }
   ],
   "source": [
    "df.head(100000)"
   ],
   "metadata": {
    "collapsed": false,
    "ExecuteTime": {
     "end_time": "2024-02-23T19:07:42.446871Z",
     "start_time": "2024-02-23T19:07:42.433059Z"
    }
   },
   "id": "90af9bf251bd4f91",
   "execution_count": 46
  },
  {
   "cell_type": "code",
   "outputs": [],
   "source": [],
   "metadata": {
    "collapsed": false,
    "ExecuteTime": {
     "start_time": "2024-02-23T17:53:28.431618Z"
    }
   },
   "id": "c71b659b8f14009a",
   "execution_count": null
  },
  {
   "cell_type": "code",
   "outputs": [],
   "source": [
    "df.to_csv('data.csv')"
   ],
   "metadata": {
    "collapsed": false,
    "ExecuteTime": {
     "end_time": "2024-02-23T17:54:47.757599Z",
     "start_time": "2024-02-23T17:54:47.684077Z"
    }
   },
   "id": "655e95f3d9e0235f",
   "execution_count": 40
  },
  {
   "cell_type": "code",
   "outputs": [
    {
     "name": "stdout",
     "output_type": "stream",
     "text": [
      "<class 'pandas.core.frame.DataFrame'>\n",
      "Index: 9424 entries, 0 to 9423\n",
      "Data columns (total 5 columns):\n",
      " #   Column           Non-Null Count  Dtype  \n",
      "---  ------           --------------  -----  \n",
      " 0   product-id       9424 non-null   object \n",
      " 1   product-name     9424 non-null   object \n",
      " 2   product-links    9424 non-null   object \n",
      " 3   product-reviews  9424 non-null   object \n",
      " 4   product-rating   9424 non-null   float64\n",
      "dtypes: float64(1), object(4)\n",
      "memory usage: 441.8+ KB\n"
     ]
    }
   ],
   "source": [
    "df.info()"
   ],
   "metadata": {
    "collapsed": false,
    "ExecuteTime": {
     "end_time": "2024-02-23T17:53:34.926438Z",
     "start_time": "2024-02-23T17:53:34.909152Z"
    }
   },
   "id": "f7e6d2b51af9c9a5",
   "execution_count": 36
  },
  {
   "cell_type": "code",
   "outputs": [
    {
     "data": {
      "text/plain": "0       False\n1       False\n2       False\n3       False\n4       False\n        ...  \n9419    False\n9420    False\n9421    False\n9422    False\n9423    False\nName: product-reviews, Length: 9424, dtype: bool"
     },
     "execution_count": 41,
     "metadata": {},
     "output_type": "execute_result"
    }
   ],
   "source": [
    "df[\"product-reviews\"].duplicated()"
   ],
   "metadata": {
    "collapsed": false,
    "ExecuteTime": {
     "end_time": "2024-02-23T19:04:30.854794Z",
     "start_time": "2024-02-23T19:04:30.841952Z"
    }
   },
   "id": "751a9be44b3992",
   "execution_count": 41
  },
  {
   "cell_type": "code",
   "outputs": [
    {
     "data": {
      "text/plain": "'teşekkürler'"
     },
     "execution_count": 45,
     "metadata": {},
     "output_type": "execute_result"
    }
   ],
   "source": [
    "df[\"product-reviews\"][6627]"
   ],
   "metadata": {
    "collapsed": false,
    "ExecuteTime": {
     "end_time": "2024-02-23T19:05:11.676275Z",
     "start_time": "2024-02-23T19:05:11.670273Z"
    }
   },
   "id": "4f2ff32e28f8bc3b",
   "execution_count": 45
  },
  {
   "cell_type": "code",
   "outputs": [],
   "source": [],
   "metadata": {
    "collapsed": false
   },
   "id": "baba6f29d28778eb"
  }
 ],
 "metadata": {
  "kernelspec": {
   "display_name": "Python 3",
   "language": "python",
   "name": "python3"
  },
  "language_info": {
   "codemirror_mode": {
    "name": "ipython",
    "version": 2
   },
   "file_extension": ".py",
   "mimetype": "text/x-python",
   "name": "python",
   "nbconvert_exporter": "python",
   "pygments_lexer": "ipython2",
   "version": "2.7.6"
  }
 },
 "nbformat": 4,
 "nbformat_minor": 5
}
