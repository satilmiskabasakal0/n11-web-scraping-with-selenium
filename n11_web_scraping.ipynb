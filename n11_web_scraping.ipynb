{
 "cells": [
  {
   "cell_type": "markdown",
   "source": [
    "## Requirment Libraries"
   ],
   "metadata": {
    "collapsed": false
   },
   "id": "4d00a91d4d11a28e"
  },
  {
   "cell_type": "code",
   "outputs": [],
   "source": [
    "from selenium.webdriver.support import expected_conditions as EC\n",
    "from selenium import webdriver\n",
    "from selenium.webdriver.chrome.service import Service\n",
    "from selenium.webdriver.common.by import By\n",
    "from selenium.webdriver.support.ui import WebDriverWait\n",
    "from selenium.common.exceptions import NoSuchWindowException\n",
    "from selenium.common.exceptions import NoSuchElementException\n",
    "from selenium.webdriver.common.keys import Keys\n",
    "from selenium.common.exceptions import StaleElementReferenceException\n",
    "from selenium.common.exceptions import TimeoutException\n",
    "from webdriver_manager.chrome import ChromeDriverManager\n",
    "import time\n",
    "import pandas as pd\n",
    "import numpy as np"
   ],
   "metadata": {
    "collapsed": false,
    "ExecuteTime": {
     "end_time": "2024-02-25T10:29:23.770977Z",
     "start_time": "2024-02-25T10:29:23.756974Z"
    }
   },
   "id": "6193d2dcfe4d4416",
   "execution_count": 26
  },
  {
   "cell_type": "markdown",
   "source": [
    "## Selenium Web Driver Setup"
   ],
   "metadata": {
    "collapsed": false
   },
   "id": "64531aa1eb09a113"
  },
  {
   "cell_type": "code",
   "outputs": [],
   "source": [
    "service = Service('C:/Users/fb_19/Downloads/chromedriver-win64/chromedriver-win64/chromedriver.exe')\n",
    "options = webdriver.ChromeOptions()\n",
    "options.add_argument('--start-maximized')  # starts the browser in maximized window\n",
    "\n",
    "options.add_argument('--disable-extensions')  # disables browser extensions\n",
    "options.add_argument('--disable-gpu')  # disables hardware acceleration\n",
    "driver = webdriver.Chrome(service=Service(ChromeDriverManager().install()),options=options)\n"
   ],
   "metadata": {
    "collapsed": true,
    "ExecuteTime": {
     "end_time": "2024-02-25T10:29:25.830215Z",
     "start_time": "2024-02-25T10:29:23.800516Z"
    }
   },
   "id": "initial_id",
   "execution_count": 27
  },
  {
   "cell_type": "markdown",
   "source": [
    "## Definition Of Element Lists"
   ],
   "metadata": {
    "collapsed": false
   },
   "id": "1be7568667d0a16c"
  },
  {
   "cell_type": "code",
   "outputs": [],
   "source": [
    "\n",
    "product_links = []\n",
    "product_names = []\n",
    "reviews = []\n",
    "ids=[]\n",
    "product_ratings=[]\n",
    "product_categories=[]"
   ],
   "metadata": {
    "collapsed": false,
    "ExecuteTime": {
     "end_time": "2024-02-25T10:29:25.845561Z",
     "start_time": "2024-02-25T10:29:25.831292Z"
    }
   },
   "id": "c2de883479046a51",
   "execution_count": 28
  },
  {
   "cell_type": "markdown",
   "source": [
    "## Reforming a Dataframe"
   ],
   "metadata": {
    "collapsed": false
   },
   "id": "695f83670d681ecd"
  },
  {
   "cell_type": "code",
   "outputs": [],
   "source": [
    "df = pd.DataFrame(columns=(\"product-id\",\"product-name\",\"product-links\",\"product-category\",\"product-reviews\",\"product-rating\"))\n"
   ],
   "metadata": {
    "collapsed": false,
    "ExecuteTime": {
     "end_time": "2024-02-25T10:29:25.861372Z",
     "start_time": "2024-02-25T10:29:25.846684Z"
    }
   },
   "id": "6fe08b83a63ebbb5",
   "execution_count": 29
  },
  {
   "cell_type": "markdown",
   "source": [
    "## Collecting Product ID numbers"
   ],
   "metadata": {
    "collapsed": false
   },
   "id": "61f67ec47e9dea69"
  },
  {
   "cell_type": "code",
   "outputs": [
    {
     "name": "stdout",
     "output_type": "stream",
     "text": [
      "377\n"
     ]
    }
   ],
   "source": [
    "websites=(\"https://www.n11.com/telefon-ve-aksesuarlari?srt=REVIEWS&pg=\",\"https://www.n11.com/agiz-dis-bakimi?srt=REVIEWS&pg=\",\"https://www.n11.com/evcil-hayvan-urunleri?srt=REVIEWS&pg=\")\n",
    "for a in websites:\n",
    "    for i in range(1, 5):\n",
    "        try:\n",
    "            website= a\n",
    "            website += str(i)\n",
    "            driver.get(website)\n",
    "            website = a\n",
    "            names = driver.find_elements(By.CLASS_NAME, 'productName')\n",
    "\n",
    "            for name in names:\n",
    "                product_names.append(name.text)\n",
    "            # Wait for the columns to load\n",
    "                wait = WebDriverWait(driver, 10)\n",
    "                columns = wait.until(EC.presence_of_all_elements_located((By.CLASS_NAME, 'column')))\n",
    "\n",
    "            for column in columns:\n",
    "                \n",
    "                column_contents = column.find_elements(By.CLASS_NAME, 'columnContent')\n",
    "                \n",
    "                for content in column_contents:\n",
    "                    \n",
    "                    id_element = content.find_element(By.TAG_NAME, \"a\")\n",
    "                    id = id_element.get_attribute(\"data-id\")\n",
    "                    product_link = id_element.get_attribute(\"href\")\n",
    "                    category = driver.find_element(By.XPATH, '//*[@id=\"breadCrumb\"]/ul/li[3]/a')\n",
    "                    product_categories.append(category.text)\n",
    "\n",
    "                    if id is not None:\n",
    "\n",
    "                        ids.append(id)\n",
    "                        product_links.append(product_link)\n",
    "                    else:\n",
    "                        continue\n",
    "\n",
    "\n",
    "        except TimeoutException:\n",
    "            print(\"TimeoutException error ignored.\")\n",
    "            continue\n",
    "            \n",
    "print(len(ids))"
   ],
   "metadata": {
    "collapsed": false,
    "ExecuteTime": {
     "end_time": "2024-02-25T10:30:03.172954Z",
     "start_time": "2024-02-25T10:29:25.863432Z"
    }
   },
   "id": "199e74cebf06c53e",
   "execution_count": 30
  },
  {
   "cell_type": "code",
   "outputs": [],
   "source": [],
   "metadata": {
    "collapsed": false,
    "ExecuteTime": {
     "end_time": "2024-02-25T10:30:03.187624Z",
     "start_time": "2024-02-25T10:30:03.174142Z"
    }
   },
   "id": "8fc78d4df1474259",
   "execution_count": 30
  },
  {
   "cell_type": "markdown",
   "source": [
    "# Collecting Reviews"
   ],
   "metadata": {
    "collapsed": false
   },
   "id": "8b375290c7cf723b"
  },
  {
   "cell_type": "code",
   "outputs": [],
   "source": [
    "for a in ids:\n",
    "    i=1\n",
    "    website = \"https://www.n11.com/component/render/groupProductReviews?page=\"+str(i)+\"&productId=\"+str(a)\n",
    "    driver.get(website)\n",
    "    time.sleep(0.1)\n",
    "    try:\n",
    "        try:\n",
    "            page= int(driver.find_element(By.XPATH, '//*[@id=\"reviewContent\"]/div/div/span').text)\n",
    "        except NoSuchElementException:\n",
    "            page=1\n",
    "        for i in range (1,page+1):\n",
    "            website = \"https://www.n11.com/component/render/groupProductReviews?page=\"+str(i)+\"&productId=\"+str(a)\n",
    "            driver.get(website)\n",
    "            step1 = driver.find_elements(By.CLASS_NAME,'comment')\n",
    "            for step in step1:\n",
    "                try:\n",
    "                    comment = step.find_element(By.TAG_NAME,'p').text\n",
    "                    reviews.append(comment)\n",
    "                    rating = step.find_element(By.CLASS_NAME,'commentTop').find_element(By.CLASS_NAME,'ratingCont').find_element(By.TAG_NAME,'span').get_attribute(\"class\")\n",
    "                    rating = int(rating.split(\"rating r\")[1])/20\n",
    "                    product_ratings.append(rating)\n",
    "                    df.loc[len(df)]=[a,product_names[ids.index(a)],product_links[ids.index(a)],product_categories[ids.index(a)],reviews[-1],product_ratings[-1]]\n",
    "                except IndexError:\n",
    "                    continue\n",
    "    except TimeoutException:\n",
    "        continue\n"
   ],
   "metadata": {
    "collapsed": false,
    "ExecuteTime": {
     "end_time": "2024-02-25T12:47:36.713542Z",
     "start_time": "2024-02-25T10:30:03.188700Z"
    }
   },
   "id": "f1c7955ee19d024e",
   "execution_count": 31
  },
  {
   "cell_type": "code",
   "outputs": [
    {
     "data": {
      "text/plain": "(131158, 131141)"
     },
     "execution_count": 32,
     "metadata": {},
     "output_type": "execute_result"
    }
   ],
   "source": [
    "len(reviews),len(product_ratings)"
   ],
   "metadata": {
    "collapsed": false,
    "ExecuteTime": {
     "end_time": "2024-02-25T12:47:36.757793Z",
     "start_time": "2024-02-25T12:47:36.724632Z"
    }
   },
   "id": "a82c8214523df9ce",
   "execution_count": 32
  },
  {
   "cell_type": "code",
   "outputs": [
    {
     "data": {
      "text/plain": "  product-id                                       product-name  \\\n0  446373410  Xiaomi Mi Band 5 Akıllı Bileklik Tme Silikon K...   \n1  446373410  Xiaomi Mi Band 5 Akıllı Bileklik Tme Silikon K...   \n2  446373410  Xiaomi Mi Band 5 Akıllı Bileklik Tme Silikon K...   \n3  446373410  Xiaomi Mi Band 5 Akıllı Bileklik Tme Silikon K...   \n4  446373410  Xiaomi Mi Band 5 Akıllı Bileklik Tme Silikon K...   \n\n                                       product-links        product-category  \\\n0  https://www.n11.com/urun/xiaomi-mi-band-5-akil...  Telefon & Aksesuarları   \n1  https://www.n11.com/urun/xiaomi-mi-band-5-akil...  Telefon & Aksesuarları   \n2  https://www.n11.com/urun/xiaomi-mi-band-5-akil...  Telefon & Aksesuarları   \n3  https://www.n11.com/urun/xiaomi-mi-band-5-akil...  Telefon & Aksesuarları   \n4  https://www.n11.com/urun/xiaomi-mi-band-5-akil...  Telefon & Aksesuarları   \n\n                                     product-reviews  product-rating  \n0                                   🧿💙♥️🧡💛❤💚💙♥️👍🧡💛❤🧿             5.0  \n1  Siyah rengi aldım çok güzel bir rengi var 3 ay...             5.0  \n2                            güzel ve kaliteli ürün.             5.0  \n3                            güzel ve kaliteli ürün.             5.0  \n4                            güzel ve kaliteli ürün.             5.0  ",
      "text/html": "<div>\n<style scoped>\n    .dataframe tbody tr th:only-of-type {\n        vertical-align: middle;\n    }\n\n    .dataframe tbody tr th {\n        vertical-align: top;\n    }\n\n    .dataframe thead th {\n        text-align: right;\n    }\n</style>\n<table border=\"1\" class=\"dataframe\">\n  <thead>\n    <tr style=\"text-align: right;\">\n      <th></th>\n      <th>product-id</th>\n      <th>product-name</th>\n      <th>product-links</th>\n      <th>product-category</th>\n      <th>product-reviews</th>\n      <th>product-rating</th>\n    </tr>\n  </thead>\n  <tbody>\n    <tr>\n      <th>0</th>\n      <td>446373410</td>\n      <td>Xiaomi Mi Band 5 Akıllı Bileklik Tme Silikon K...</td>\n      <td>https://www.n11.com/urun/xiaomi-mi-band-5-akil...</td>\n      <td>Telefon &amp; Aksesuarları</td>\n      <td>🧿💙♥️🧡💛❤💚💙♥️👍🧡💛❤🧿</td>\n      <td>5.0</td>\n    </tr>\n    <tr>\n      <th>1</th>\n      <td>446373410</td>\n      <td>Xiaomi Mi Band 5 Akıllı Bileklik Tme Silikon K...</td>\n      <td>https://www.n11.com/urun/xiaomi-mi-band-5-akil...</td>\n      <td>Telefon &amp; Aksesuarları</td>\n      <td>Siyah rengi aldım çok güzel bir rengi var 3 ay...</td>\n      <td>5.0</td>\n    </tr>\n    <tr>\n      <th>2</th>\n      <td>446373410</td>\n      <td>Xiaomi Mi Band 5 Akıllı Bileklik Tme Silikon K...</td>\n      <td>https://www.n11.com/urun/xiaomi-mi-band-5-akil...</td>\n      <td>Telefon &amp; Aksesuarları</td>\n      <td>güzel ve kaliteli ürün.</td>\n      <td>5.0</td>\n    </tr>\n    <tr>\n      <th>3</th>\n      <td>446373410</td>\n      <td>Xiaomi Mi Band 5 Akıllı Bileklik Tme Silikon K...</td>\n      <td>https://www.n11.com/urun/xiaomi-mi-band-5-akil...</td>\n      <td>Telefon &amp; Aksesuarları</td>\n      <td>güzel ve kaliteli ürün.</td>\n      <td>5.0</td>\n    </tr>\n    <tr>\n      <th>4</th>\n      <td>446373410</td>\n      <td>Xiaomi Mi Band 5 Akıllı Bileklik Tme Silikon K...</td>\n      <td>https://www.n11.com/urun/xiaomi-mi-band-5-akil...</td>\n      <td>Telefon &amp; Aksesuarları</td>\n      <td>güzel ve kaliteli ürün.</td>\n      <td>5.0</td>\n    </tr>\n  </tbody>\n</table>\n</div>"
     },
     "execution_count": 33,
     "metadata": {},
     "output_type": "execute_result"
    }
   ],
   "source": [
    "df.head()"
   ],
   "metadata": {
    "collapsed": false,
    "ExecuteTime": {
     "end_time": "2024-02-25T12:47:36.805370Z",
     "start_time": "2024-02-25T12:47:36.759927Z"
    }
   },
   "id": "9eae282f3f791306",
   "execution_count": 33
  },
  {
   "cell_type": "code",
   "outputs": [
    {
     "name": "stdout",
     "output_type": "stream",
     "text": [
      "<class 'pandas.core.frame.DataFrame'>\n",
      "Index: 131141 entries, 0 to 131140\n",
      "Data columns (total 6 columns):\n",
      " #   Column            Non-Null Count   Dtype  \n",
      "---  ------            --------------   -----  \n",
      " 0   product-id        131141 non-null  object \n",
      " 1   product-name      131141 non-null  object \n",
      " 2   product-links     131141 non-null  object \n",
      " 3   product-category  131141 non-null  object \n",
      " 4   product-reviews   131141 non-null  object \n",
      " 5   product-rating    131141 non-null  float64\n",
      "dtypes: float64(1), object(5)\n",
      "memory usage: 7.0+ MB\n"
     ]
    }
   ],
   "source": [
    "df.info()"
   ],
   "metadata": {
    "collapsed": false,
    "ExecuteTime": {
     "end_time": "2024-02-25T12:47:36.883672Z",
     "start_time": "2024-02-25T12:47:36.806642Z"
    }
   },
   "id": "f7e6d2b51af9c9a5",
   "execution_count": 34
  },
  {
   "cell_type": "code",
   "outputs": [
    {
     "data": {
      "text/plain": "product-reviews\nFalse    116594\nTrue      14547\nName: count, dtype: int64"
     },
     "execution_count": 35,
     "metadata": {},
     "output_type": "execute_result"
    }
   ],
   "source": [
    "df[\"product-reviews\"].duplicated().value_counts()"
   ],
   "metadata": {
    "collapsed": false,
    "ExecuteTime": {
     "end_time": "2024-02-25T12:47:36.946952Z",
     "start_time": "2024-02-25T12:47:36.889237Z"
    }
   },
   "id": "751a9be44b3992",
   "execution_count": 35
  },
  {
   "cell_type": "code",
   "outputs": [
    {
     "data": {
      "text/plain": "product-rating\n5.0    100465\n4.0     12573\n1.0     10034\n3.0      5303\n2.0      2766\nName: count, dtype: int64"
     },
     "execution_count": 36,
     "metadata": {},
     "output_type": "execute_result"
    }
   ],
   "source": [
    "df[\"product-rating\"].value_counts()"
   ],
   "metadata": {
    "collapsed": false,
    "ExecuteTime": {
     "end_time": "2024-02-25T12:47:36.963271Z",
     "start_time": "2024-02-25T12:47:36.948954Z"
    }
   },
   "id": "4f2ff32e28f8bc3b",
   "execution_count": 36
  },
  {
   "cell_type": "code",
   "outputs": [
    {
     "data": {
      "text/plain": "0                                          🧿💙♥️🧡💛❤💚💙♥️👍🧡💛❤🧿\n1         Siyah rengi aldım çok güzel bir rengi var 3 ay...\n2                                   güzel ve kaliteli ürün.\n3                                   güzel ve kaliteli ürün.\n4                                   güzel ve kaliteli ürün.\n                                ...                        \n131136    şüphe etmeden alış veriş yapılabilir teslimat ...\n131137                    Evet çok iyi bir ürün teşekkürler\n131138    Hediyelere köpeğim bayıldı.Çok teşekkür ederiz...\n131139    ürün ve firma çok iyi tavsiye ederim. şüphesiz...\n131140    ürün güzel, yanındaki hediyelerle nasıl bu kad...\nName: product-reviews, Length: 131141, dtype: object"
     },
     "execution_count": 37,
     "metadata": {},
     "output_type": "execute_result"
    }
   ],
   "source": [
    "df[\"product-reviews\"]"
   ],
   "metadata": {
    "collapsed": false,
    "ExecuteTime": {
     "end_time": "2024-02-25T12:47:36.978991Z",
     "start_time": "2024-02-25T12:47:36.964729Z"
    }
   },
   "id": "baba6f29d28778eb",
   "execution_count": 37
  },
  {
   "cell_type": "code",
   "outputs": [
    {
     "data": {
      "text/plain": "  product-id                                       product-name  \\\n0  446373410  Xiaomi Mi Band 5 Akıllı Bileklik Tme Silikon K...   \n1  446373410  Xiaomi Mi Band 5 Akıllı Bileklik Tme Silikon K...   \n2  446373410  Xiaomi Mi Band 5 Akıllı Bileklik Tme Silikon K...   \n6  446373410  Xiaomi Mi Band 5 Akıllı Bileklik Tme Silikon K...   \n7  446373410  Xiaomi Mi Band 5 Akıllı Bileklik Tme Silikon K...   \n\n                                       product-links        product-category  \\\n0  https://www.n11.com/urun/xiaomi-mi-band-5-akil...  Telefon & Aksesuarları   \n1  https://www.n11.com/urun/xiaomi-mi-band-5-akil...  Telefon & Aksesuarları   \n2  https://www.n11.com/urun/xiaomi-mi-band-5-akil...  Telefon & Aksesuarları   \n6  https://www.n11.com/urun/xiaomi-mi-band-5-akil...  Telefon & Aksesuarları   \n7  https://www.n11.com/urun/xiaomi-mi-band-5-akil...  Telefon & Aksesuarları   \n\n                                     product-reviews  product-rating  \n0                                   🧿💙♥️🧡💛❤💚💙♥️👍🧡💛❤🧿             5.0  \n1  Siyah rengi aldım çok güzel bir rengi var 3 ay...             5.0  \n2                            güzel ve kaliteli ürün.             5.0  \n6                                                iyi             5.0  \n7  orijinali gibi olmuyor tabiki biraz sert ama s...             3.0  ",
      "text/html": "<div>\n<style scoped>\n    .dataframe tbody tr th:only-of-type {\n        vertical-align: middle;\n    }\n\n    .dataframe tbody tr th {\n        vertical-align: top;\n    }\n\n    .dataframe thead th {\n        text-align: right;\n    }\n</style>\n<table border=\"1\" class=\"dataframe\">\n  <thead>\n    <tr style=\"text-align: right;\">\n      <th></th>\n      <th>product-id</th>\n      <th>product-name</th>\n      <th>product-links</th>\n      <th>product-category</th>\n      <th>product-reviews</th>\n      <th>product-rating</th>\n    </tr>\n  </thead>\n  <tbody>\n    <tr>\n      <th>0</th>\n      <td>446373410</td>\n      <td>Xiaomi Mi Band 5 Akıllı Bileklik Tme Silikon K...</td>\n      <td>https://www.n11.com/urun/xiaomi-mi-band-5-akil...</td>\n      <td>Telefon &amp; Aksesuarları</td>\n      <td>🧿💙♥️🧡💛❤💚💙♥️👍🧡💛❤🧿</td>\n      <td>5.0</td>\n    </tr>\n    <tr>\n      <th>1</th>\n      <td>446373410</td>\n      <td>Xiaomi Mi Band 5 Akıllı Bileklik Tme Silikon K...</td>\n      <td>https://www.n11.com/urun/xiaomi-mi-band-5-akil...</td>\n      <td>Telefon &amp; Aksesuarları</td>\n      <td>Siyah rengi aldım çok güzel bir rengi var 3 ay...</td>\n      <td>5.0</td>\n    </tr>\n    <tr>\n      <th>2</th>\n      <td>446373410</td>\n      <td>Xiaomi Mi Band 5 Akıllı Bileklik Tme Silikon K...</td>\n      <td>https://www.n11.com/urun/xiaomi-mi-band-5-akil...</td>\n      <td>Telefon &amp; Aksesuarları</td>\n      <td>güzel ve kaliteli ürün.</td>\n      <td>5.0</td>\n    </tr>\n    <tr>\n      <th>6</th>\n      <td>446373410</td>\n      <td>Xiaomi Mi Band 5 Akıllı Bileklik Tme Silikon K...</td>\n      <td>https://www.n11.com/urun/xiaomi-mi-band-5-akil...</td>\n      <td>Telefon &amp; Aksesuarları</td>\n      <td>iyi</td>\n      <td>5.0</td>\n    </tr>\n    <tr>\n      <th>7</th>\n      <td>446373410</td>\n      <td>Xiaomi Mi Band 5 Akıllı Bileklik Tme Silikon K...</td>\n      <td>https://www.n11.com/urun/xiaomi-mi-band-5-akil...</td>\n      <td>Telefon &amp; Aksesuarları</td>\n      <td>orijinali gibi olmuyor tabiki biraz sert ama s...</td>\n      <td>3.0</td>\n    </tr>\n  </tbody>\n</table>\n</div>"
     },
     "execution_count": 38,
     "metadata": {},
     "output_type": "execute_result"
    }
   ],
   "source": [
    "data = df.copy()\n",
    "data=data.drop_duplicates(\"product-reviews\")\n",
    "\n",
    "data.head()"
   ],
   "metadata": {
    "collapsed": false,
    "ExecuteTime": {
     "end_time": "2024-02-25T12:47:37.039463Z",
     "start_time": "2024-02-25T12:47:36.980140Z"
    }
   },
   "id": "c9bbd622b20fa9ee",
   "execution_count": 38
  },
  {
   "cell_type": "code",
   "outputs": [],
   "source": [
    "data.to_csv('data-dropped-duplicated-reviews.csv')"
   ],
   "metadata": {
    "collapsed": false,
    "ExecuteTime": {
     "end_time": "2024-02-25T12:47:37.955284Z",
     "start_time": "2024-02-25T12:47:37.040463Z"
    }
   },
   "id": "6f271e2b7cdfbf15",
   "execution_count": 39
  },
  {
   "cell_type": "code",
   "outputs": [
    {
     "data": {
      "text/plain": "<bound method DataFrame.info of        product-id                                       product-name  \\\n0       446373410  Xiaomi Mi Band 5 Akıllı Bileklik Tme Silikon K...   \n1       446373410  Xiaomi Mi Band 5 Akıllı Bileklik Tme Silikon K...   \n2       446373410  Xiaomi Mi Band 5 Akıllı Bileklik Tme Silikon K...   \n6       446373410  Xiaomi Mi Band 5 Akıllı Bileklik Tme Silikon K...   \n7       446373410  Xiaomi Mi Band 5 Akıllı Bileklik Tme Silikon K...   \n...           ...                                                ...   \n131136  373486184  La Vital Kuzu Etli Büyük Irk Yetişkin Köpek Ma...   \n131137  373486184  La Vital Kuzu Etli Büyük Irk Yetişkin Köpek Ma...   \n131138  373486184  La Vital Kuzu Etli Büyük Irk Yetişkin Köpek Ma...   \n131139  373486184  La Vital Kuzu Etli Büyük Irk Yetişkin Köpek Ma...   \n131140  373486184  La Vital Kuzu Etli Büyük Irk Yetişkin Köpek Ma...   \n\n                                            product-links  \\\n0       https://www.n11.com/urun/xiaomi-mi-band-5-akil...   \n1       https://www.n11.com/urun/xiaomi-mi-band-5-akil...   \n2       https://www.n11.com/urun/xiaomi-mi-band-5-akil...   \n6       https://www.n11.com/urun/xiaomi-mi-band-5-akil...   \n7       https://www.n11.com/urun/xiaomi-mi-band-5-akil...   \n...                                                   ...   \n131136  https://www.n11.com/urun/la-vital-kuzu-etli-bu...   \n131137  https://www.n11.com/urun/la-vital-kuzu-etli-bu...   \n131138  https://www.n11.com/urun/la-vital-kuzu-etli-bu...   \n131139  https://www.n11.com/urun/la-vital-kuzu-etli-bu...   \n131140  https://www.n11.com/urun/la-vital-kuzu-etli-bu...   \n\n              product-category  \\\n0       Telefon & Aksesuarları   \n1       Telefon & Aksesuarları   \n2       Telefon & Aksesuarları   \n6       Telefon & Aksesuarları   \n7       Telefon & Aksesuarları   \n...                        ...   \n131136   Evcil Hayvan Ürünleri   \n131137   Evcil Hayvan Ürünleri   \n131138   Evcil Hayvan Ürünleri   \n131139   Evcil Hayvan Ürünleri   \n131140   Evcil Hayvan Ürünleri   \n\n                                          product-reviews  product-rating  \n0                                        🧿💙♥️🧡💛❤💚💙♥️👍🧡💛❤🧿             5.0  \n1       Siyah rengi aldım çok güzel bir rengi var 3 ay...             5.0  \n2                                 güzel ve kaliteli ürün.             5.0  \n6                                                     iyi             5.0  \n7       orijinali gibi olmuyor tabiki biraz sert ama s...             3.0  \n...                                                   ...             ...  \n131136  şüphe etmeden alış veriş yapılabilir teslimat ...             5.0  \n131137                  Evet çok iyi bir ürün teşekkürler             5.0  \n131138  Hediyelere köpeğim bayıldı.Çok teşekkür ederiz...             5.0  \n131139  ürün ve firma çok iyi tavsiye ederim. şüphesiz...             5.0  \n131140  ürün güzel, yanındaki hediyelerle nasıl bu kad...             5.0  \n\n[116594 rows x 6 columns]>"
     },
     "execution_count": 40,
     "metadata": {},
     "output_type": "execute_result"
    }
   ],
   "source": [
    "data.info"
   ],
   "metadata": {
    "collapsed": false,
    "ExecuteTime": {
     "end_time": "2024-02-25T12:48:15.616193Z",
     "start_time": "2024-02-25T12:48:15.597653Z"
    }
   },
   "id": "66d415082a977053",
   "execution_count": 40
  },
  {
   "cell_type": "code",
   "outputs": [
    {
     "data": {
      "text/plain": "product-category\nTelefon & Aksesuarları    73427\nAğız & Diş Bakımı         28968\nEvcil Hayvan Ürünleri     14199\nName: count, dtype: int64"
     },
     "execution_count": 42,
     "metadata": {},
     "output_type": "execute_result"
    }
   ],
   "source": [
    "data[\"product-category\"].value_counts()"
   ],
   "metadata": {
    "collapsed": false,
    "ExecuteTime": {
     "end_time": "2024-02-25T12:49:41.467323Z",
     "start_time": "2024-02-25T12:49:41.441428Z"
    }
   },
   "id": "190d64452d00aeec",
   "execution_count": 42
  },
  {
   "cell_type": "code",
   "outputs": [],
   "source": [],
   "metadata": {
    "collapsed": false
   },
   "id": "cfbd0560f83755e1"
  }
 ],
 "metadata": {
  "kernelspec": {
   "display_name": "Python 3",
   "language": "python",
   "name": "python3"
  },
  "language_info": {
   "codemirror_mode": {
    "name": "ipython",
    "version": 2
   },
   "file_extension": ".py",
   "mimetype": "text/x-python",
   "name": "python",
   "nbconvert_exporter": "python",
   "pygments_lexer": "ipython2",
   "version": "2.7.6"
  }
 },
 "nbformat": 4,
 "nbformat_minor": 5
}
